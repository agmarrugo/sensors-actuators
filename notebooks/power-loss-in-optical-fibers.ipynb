{
 "cells": [
  {
   "cell_type": "markdown",
   "metadata": {},
   "source": [
    "# Power loss in optical fibers"
   ]
  },
  {
   "cell_type": "markdown",
   "metadata": {},
   "source": [
    "**1.27 Power loss in optical fibers and the use of dB.** \n",
    "An optical fiber is rated as having a loss of 4 dB/km. \n",
    "Given an input light power density of 10$\\, \\mathrm{mW}/\\mathrm{mm}^2$, \n",
    "what is the light power density at the end of a fiber 6 km long?"
   ]
  },
  {
   "cell_type": "markdown",
   "metadata": {},
   "source": [
    "## Solution"
   ]
  },
  {
   "cell_type": "markdown",
   "metadata": {},
   "source": [
    "The input power density $\\mathbf{P_{in}}$ is: $10 \\, \\mathrm{mW}/\\mathrm{mm}^2$\n",
    "\n",
    "The total attenuation along the line: \n",
    "\n",
    "$$ 4 \\, \\mathrm{dB/km} \\times 6 \\, \\mathrm{km}  = 24 \\, \\mathrm{dB}$$\n",
    "\n",
    "We need to calculate the input power density in dB:\n",
    "\n",
    "$$ \\mathbf{P_{in}} = 10 \\, \\mathrm{mW}/\\mathrm{mm}^2 \\rightarrow P_{in} = 10 \\log_{10} \\left(\\frac{10 \\, \\mathrm{mW}/\\mathrm{mm}^2}{1 \\, \\mathrm{mW}/\\mathrm{mm}^2}\\right) = 10 \\, \\mathrm{dB}$$\n",
    "\n",
    "Note that we have arbitrarily defined as reference (the denominator) $1 \\, \\mathrm{mW}/\\mathrm{mm}^2$. We need to keep this in mind when converting back to power density.\n",
    "\n",
    "The output power density in dB:\n",
    "\n",
    "$$ P_{out} = 10 \\, \\mathrm{dB} - 24 \\, \\mathrm{dB} = - 14 \\, \\mathrm{dB} $$\n",
    "\n",
    "Now we convert this back to power density:\n",
    "\n",
    "$$ -14 \\, \\mathrm{dB} = 10 \\log_{10} \\left( \\frac{\\mathbf{P_{out}}}{1 \\, \\mathrm{mW}/\\mathrm{mm}^2} \\right) $$\n",
    "\n",
    "$$ 10^{-1.4} = \\frac{\\mathbf{P_{out}}}{1 \\, \\mathrm{mW}/\\mathrm{mm}^2} $$\n",
    "\n",
    "$$ \\therefore \\; \\mathbf{P_{out}} = 0.0398 \\, \\mathrm{mW}/\\mathrm{mm}^2 $$\n",
    "\n",
    "$$ \\mathbf{P_{out}} = 39.8 \\, \\mathrm{\\mu W}/\\mathrm{mm}^2 $$"
   ]
  },
  {
   "cell_type": "markdown",
   "metadata": {},
   "source": [
    "> This page was written in the [IPython Jupyter Notebook](https://jupyter.org/). To download the notebook click on this option at the top menu or get it from the [github repo](https://github.com/agmarrugo/sensors-actuators)."
   ]
  }
 ],
 "metadata": {
  "kernelspec": {
   "display_name": "Python 3",
   "language": "python",
   "name": "python3"
  },
  "language_info": {
   "codemirror_mode": {
    "name": "ipython",
    "version": 3
   },
   "file_extension": ".py",
   "mimetype": "text/x-python",
   "name": "python",
   "nbconvert_exporter": "python",
   "pygments_lexer": "ipython3",
   "version": "3.8.5"
  }
 },
 "nbformat": 4,
 "nbformat_minor": 1
}
