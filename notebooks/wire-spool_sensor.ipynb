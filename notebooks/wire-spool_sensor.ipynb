{
 "cells": [
  {
   "cell_type": "markdown",
   "metadata": {},
   "source": [
    "# Wire-spool sensor\n",
    "\n",
    "Andrés Marrugo, PhD     \n",
    "Universidad Tecnológica de Bolívar"
   ]
  },
  {
   "cell_type": "markdown",
   "metadata": {},
   "source": [
    "A spool of magnet wire (copper wire insulated with a thin layer of polyurethane) contains 500 m of wire with a diameter of 0.2 mm. It is proposed to use the spool as a temperature sensor to sense the temperature in a freezer. The proposed range is between $45^{\\circ}$C and $10^{\\circ}$C. A milliammeter is used to display the temperature by connecting the sensor directly to a 1.5 V battery and measuring the current through it.\n",
    "\n",
    "a. Calculate the resistance of the sensor and the corresponding currents at the minimum and maximum temperatures.    \n",
    "b. Calculate the maximum power the sensor dissipates."
   ]
  },
  {
   "cell_type": "markdown",
   "metadata": {},
   "source": [
    "## Solution\n",
    "\n",
    "First, let's draw the temperature sensor circuit composed of a 1.5 V battery, a milliammeter and variable resistor which is our temperature sensor.\n",
    "\n",
    "![Temperature sensor circuit.](../images/circuit.png \"Temperature sensor circuit.\")\n",
    "**Temperature sensor circuit.**\n",
    "\n",
    "The electric resistance is given by the following equation\n",
    "\n",
    "$$ R = \\frac{L}{\\sigma s} = \\frac{L}{\\sigma_0 S} (1+\\alpha[T-T_0]) , $$\n",
    "\n",
    "where for Copper at $T_0=20^{\\circ}$, $\\sigma_0=5.8\\times 10^7$S/m, and $\\alpha=0.0039$. \n",
    "\n",
    "Replacing in the equation we get two values for $R$, namely $R(-45^{\\circ})$ and $R(+10^{\\circ})$:"
   ]
  },
  {
   "cell_type": "code",
   "execution_count": 15,
   "metadata": {},
   "outputs": [
    {
     "name": "stdout",
     "output_type": "stream",
     "text": [
      "R(-45) = 204.84 Ohm\n",
      "R(+10) = 263.70 Ohm\n"
     ]
    }
   ],
   "source": [
    "from math import *\n",
    "\n",
    "L = 500\n",
    "sigma0 = 5.8e7\n",
    "alpha = 0.0039\n",
    "d = 0.2e-3\n",
    "T0 = 20\n",
    "\n",
    "# The cross section area\n",
    "S = pi/4*d**2\n",
    "\n",
    "# Resistance @ -45\n",
    "R_1 = L/(sigma0*S)*(1+alpha*(-45-T0))\n",
    "\n",
    "# Resistance @ +10\n",
    "R_2 = L/(sigma0*S)*(1+alpha*(+10-T0))\n",
    "\n",
    "print('R(-45) = %2.2f Ohm' % (R_1))\n",
    "print('R(+10) = %2.2f Ohm' % (R_2))"
   ]
  },
  {
   "cell_type": "markdown",
   "metadata": {},
   "source": [
    "Now we compute the currents by $I=V/R$."
   ]
  },
  {
   "cell_type": "code",
   "execution_count": 16,
   "metadata": {},
   "outputs": [
    {
     "name": "stdout",
     "output_type": "stream",
     "text": [
      "I(-45) = 7.32 mA\n",
      "I(+10) = 5.69 mA\n"
     ]
    }
   ],
   "source": [
    "V = 1.5\n",
    "\n",
    "# I @ -45\n",
    "I_1 = V/R_1\n",
    "\n",
    "# I @ +10\n",
    "I_2 = V/R_2\n",
    "\n",
    "print('I(-45) = %2.2f mA' % (I_1*1000)) # we multiply by 1000 to express in milliAmpere\n",
    "print('I(+10) = %2.2f mA' % (I_2*1000))"
   ]
  },
  {
   "cell_type": "markdown",
   "metadata": {},
   "source": [
    "We know the resistance is linear with the temperature. However, the current is not. We can check how large is the non-linearity."
   ]
  },
  {
   "cell_type": "code",
   "execution_count": 23,
   "metadata": {},
   "outputs": [
    {
     "data": {
      "image/png": "[encoded data removed]",
      "text/plain": [
       "<Figure size 432x288 with 1 Axes>"
      ]
     },
     "metadata": {
      "needs_background": "light"
     },
     "output_type": "display_data"
    }
   ],
   "source": [
    "import matplotlib.pyplot as plt\n",
    "import numpy as np\n",
    "%matplotlib inline\n",
    "\n",
    "T = np.linspace(-45,10)\n",
    "\n",
    "R = L/(sigma0*S)*(1+alpha*(T-T0))\n",
    "\n",
    "I = 1.5/R\n",
    "\n",
    "# We plot I vs T\n",
    "plt.plot(T,I*1000);\n",
    "plt.plot(np.array([-45, 10]), np.array([I_1, I_2])*1000,':');\n",
    "plt.ylabel('Sensor current [mA]')\n",
    "plt.xlabel('Temperature [C]')\n",
    "plt.legend(['Real transfer function', 'Linear approximation'])\n",
    "plt.show()"
   ]
  },
  {
   "cell_type": "markdown",
   "metadata": {},
   "source": [
    "Although the current is not linear with temperature, it can be approximated as linear. We can compute the approximate sensitiviy of the sensor to get a sense of how the current changes with temperature. We can approximate the sensitivity as\n",
    "\n",
    "$$ Sensitivity = \\frac{I(+10^{\\circ}C) - I(-45^{\\circ}C)}{10^{\\circ}C-(-45^{\\circ}C)} $$"
   ]
  },
  {
   "cell_type": "code",
   "execution_count": 18,
   "metadata": {},
   "outputs": [
    {
     "name": "stdout",
     "output_type": "stream",
     "text": [
      "The sensitivity is -29.72 uA/ºC\n"
     ]
    }
   ],
   "source": [
    "Sensitivity = (I_2-I_1)/(10-(-45))\n",
    "\n",
    "print('The sensitivity is %2.2f uA/ºC' % (Sensitivity*1e6))"
   ]
  },
  {
   "cell_type": "markdown",
   "metadata": {},
   "source": [
    "Although it is relatively small, it is still measurable. Any digital ammeter should be able to measure at least a change in $10 \\mu$A.\n",
    "\n",
    "Next, we compute the power that the sensor dissipates for the range, as $P=I^2R$."
   ]
  },
  {
   "cell_type": "code",
   "execution_count": 19,
   "metadata": {},
   "outputs": [
    {
     "name": "stdout",
     "output_type": "stream",
     "text": [
      "P(-45) = 10.98 mW\n",
      "P(+10) = 8.53 mW\n"
     ]
    }
   ],
   "source": [
    "# P @ -45\n",
    "P_1 = I_1**2*R_1\n",
    "\n",
    "# P @ +10\n",
    "P_2 = I_2**2*R_2\n",
    "\n",
    "print('P(-45) = %2.2f mW' % (P_1*1000)) # we multiply by 1000 to express in milliWatt\n",
    "print('P(+10) = %2.2f mW' % (P_2*1000))"
   ]
  },
  {
   "cell_type": "markdown",
   "metadata": {},
   "source": [
    "The power is relatively low, which is a good thing. "
   ]
  },
  {
   "cell_type": "markdown",
   "metadata": {},
   "source": [
    "> This page was written in the [IPython Jupyter Notebook](https://jupyter.org/). To download the notebook click on this option at the top menu or get it from the [github repo](https://github.com/agmarrugo/sensors-actuators)."
   ]
  }
 ],
 "metadata": {
  "kernelspec": {
   "display_name": "Python 3",
   "language": "python",
   "name": "python3"
  },
  "language_info": {
   "codemirror_mode": {
    "name": "ipython",
    "version": 3
   },
   "file_extension": ".py",
   "mimetype": "text/x-python",
   "name": "python",
   "nbconvert_exporter": "python",
   "pygments_lexer": "ipython3",
   "version": "3.9.1"
  }
 },
 "nbformat": 4,
 "nbformat_minor": 2
}
