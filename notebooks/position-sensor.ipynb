{
 "cells": [
  {
   "cell_type": "markdown",
   "metadata": {},
   "source": [
    "## Transfer function of a position sensor."
   ]
  },
  {
   "cell_type": "markdown",
   "metadata": {},
   "source": [
    "Andrés Marrugo, PhD     \n",
    "Universidad Tecnológica de Bolívar."
   ]
  },
  {
   "cell_type": "markdown",
   "metadata": {},
   "source": [
    "The transfer function of a small position sensor is evaluated experimentally. The sensor is made of a very small magnet and the position with respect to the centerline (see Figure 2.24) is sensed by the horizontal, restoring force on the magnet. The magnet is held at a fixed distance, $h$, from the iron plate. The measurements are given in the table below."
   ]
  },
  {
   "cell_type": "markdown",
   "metadata": {},
   "source": [
    "|                      \t|    \t|       \t|       \t|       \t|       \t|       \t|       \t|       \t|\n",
    "|----------------------\t|----\t|-------\t|-------\t|-------\t|-------\t|-------\t|-------\t|-------\t|\n",
    "| Displacement, d [mm] \t| 0  \t| 0.08  \t| 0.16  \t| 0.24  \t| 0.32  \t| 0.4   \t| 0.48  \t| 0.52  \t|\n",
    "| Force [mN]           \t|  0 \t| 0.576 \t| 1.147 \t| 1.677 \t| 2.187 \t| 2.648 \t| 3.089 \t| 3.295 \t|\n",
    "|                      \t|    \t|       \t|       \t|       \t|       \t|       \t|       \t|       \t|"
   ]
  },
  {
   "cell_type": "markdown",
   "metadata": {},
   "source": [
    "![A simple position sensor.](../images/simple-position-sensor.png \"A simple position sensor.\")\n",
    "**Fig. 2.24 A simple position sensor.**"
   ]
  },
  {
   "cell_type": "markdown",
   "metadata": {},
   "source": [
    "1. Find the linear transfer function that best fits these data.    \n",
    "2. Find a transfer function in the form of a second-order polynomial ($y = a+bf+cf^2$), where $y$ is the displacement and $f$ is the restoring force by evaluating the constants $a$, $b$, and $c$.    \n",
    "3. Plot the original data together with the transfer functions in (1) and (2) and discuss the errors in the choice of approximation.    "
   ]
  },
  {
   "cell_type": "markdown",
   "metadata": {},
   "source": [
    "### Solution"
   ]
  },
  {
   "cell_type": "markdown",
   "metadata": {},
   "source": [
    "Let's begin by plotting the data."
   ]
  },
  {
   "cell_type": "code",
   "execution_count": 1,
   "metadata": {},
   "outputs": [
    {
     "data": {
      "image/png": "[encoded data removed]",
      "text/plain": [
       "<Figure size 432x288 with 1 Axes>"
      ]
     },
     "metadata": {
      "needs_background": "light"
     },
     "output_type": "display_data"
    }
   ],
   "source": [
    "import matplotlib.pyplot as plt\n",
    "import numpy as np\n",
    "%matplotlib inline\n",
    "\n",
    "d = np.array([0,0.08,0.16,0.24,0.32,0.4,0.48,0.52])\n",
    "f = np.array([0,0.576,1.147,1.677,2.187,2.648,3.089,3.295])\n",
    "\n",
    "plt.plot(f,d,'*')\n",
    "plt.ylabel('Displacement [mm]')\n",
    "plt.xlabel('Force [mN]')\n",
    "plt.show()\n"
   ]
  },
  {
   "cell_type": "markdown",
   "metadata": {},
   "source": [
    "We can see that the data is approximately linear, but not quite.\n",
    "\n",
    "The linear transfer fuction that best fits the data is found by performing a linear fit in the least squares sense. If we go back to the book and review how to carry out linear approximation of nonlinear transfer functions."
   ]
  },
  {
   "cell_type": "code",
   "execution_count": 2,
   "metadata": {},
   "outputs": [
    {
     "data": {
      "text/html": [
       "\n",
       "        <iframe\n",
       "            width=\"100%\"\n",
       "            height=\"400\"\n",
       "            src=\"../pdfs/linear-approximation.pdf\"\n",
       "            frameborder=\"0\"\n",
       "            allowfullscreen\n",
       "        ></iframe>\n",
       "        "
      ],
      "text/plain": [
       "<IPython.lib.display.IFrame at 0x10c3a6d30>"
      ]
     },
     "execution_count": 2,
     "metadata": {},
     "output_type": "execute_result"
    }
   ],
   "source": [
    "from IPython.display import IFrame\n",
    "IFrame('../pdfs/linear-approximation.pdf',\n",
    "       width='100%', height=400)"
   ]
  },
  {
   "cell_type": "markdown",
   "metadata": {},
   "source": [
    "We see that we need to fit the data to a line with equation $d=af+b$, and we need to compute the coefficients $a$ and $b$ that provides a best fit in the least squares sense.\n",
    "\n",
    "To do this in python we use the [polyfit][poly_link] function.\n",
    "\n",
    "[poly_link]: http://docs.scipy.org/doc/numpy/reference/generated/numpy.polyfit.html \"numpy.polyfit — NumPy v1.9 Manual\""
   ]
  },
  {
   "cell_type": "code",
   "execution_count": 3,
   "metadata": {},
   "outputs": [
    {
     "name": "stdout",
     "output_type": "stream",
     "text": [
      "The coefficients are a = 0.15766105870626124 b = -0.013105877153354043\n"
     ]
    },
    {
     "data": {
      "image/png": "[encoded data removed]",
      "text/plain": [
       "<Figure size 432x288 with 1 Axes>"
      ]
     },
     "metadata": {
      "needs_background": "light"
     },
     "output_type": "display_data"
    }
   ],
   "source": [
    "# polyfit computes the coefficients a and b of degree=1\n",
    "a,b = np.polyfit(f,d,1)\n",
    "\n",
    "print('The coefficients are a =',a,'b =',b)\n",
    "\n",
    "d1 = a*f+b\n",
    "plt.plot(d1,f,':b',label='Fitted line')\n",
    "plt.plot(d,f,'*')\n",
    "plt.ylabel('Displacement [mm]')\n",
    "plt.xlabel('Force [mN]')\n",
    "plt.axis([0,0.6,0,3])\n",
    "plt.show()"
   ]
  },
  {
   "cell_type": "markdown",
   "metadata": {},
   "source": [
    "We have obtained the linear fit to the data. Several points are not exactly on the line, therefore there's always an error with respect to the ideal transfer function. Probably a second order fit might be better."
   ]
  },
  {
   "cell_type": "markdown",
   "metadata": {},
   "source": [
    "For the transfer function in (2), $y = a+bf+cf^2$, we have to find $a$, $b$, and $c$."
   ]
  },
  {
   "cell_type": "code",
   "execution_count": 5,
   "metadata": {},
   "outputs": [
    {
     "name": "stdout",
     "output_type": "stream",
     "text": [
      "The coefficients are a = 0.0018736804022103245 b = 0.1262332697028742 c = 0.009265311122832272\n"
     ]
    }
   ],
   "source": [
    "# polyfit computes the coefficients a and b of degree=1\n",
    "c2,b2,a2 = np.polyfit(f,d,2)\n",
    "\n",
    "print('The coefficients are a =',a2,'b =',b2,'c =',c2)"
   ]
  },
  {
   "cell_type": "markdown",
   "metadata": {},
   "source": [
    "Now we plot both transfer functions."
   ]
  },
  {
   "cell_type": "code",
   "execution_count": 6,
   "metadata": {},
   "outputs": [
    {
     "data": {
      "image/png": "[encoded data removed]",
      "text/plain": [
       "<Figure size 432x288 with 1 Axes>"
      ]
     },
     "metadata": {
      "needs_background": "light"
     },
     "output_type": "display_data"
    }
   ],
   "source": [
    "d2 = a2+b2*f+c2*f**2\n",
    "tf2=plt.plot(f,d2,'--k',label='2nd order fit')\n",
    "tf1=plt.plot(f,d1,':b',label='Linear fit')\n",
    "tf0=plt.plot(f,d,'*',label='Exact output')\n",
    "plt.ylabel('Displacement [mm]')\n",
    "plt.xlabel('Force [mN]')\n",
    "plt.legend(loc='upper left')\n",
    "plt.show()"
   ]
  },
  {
   "cell_type": "markdown",
   "metadata": {},
   "source": [
    "Now let's compute the errors."
   ]
  },
  {
   "cell_type": "code",
   "execution_count": 7,
   "metadata": {},
   "outputs": [
    {
     "name": "stdout",
     "output_type": "stream",
     "text": [
      "Mean error linear fit:  0.00877563500445958\n",
      "Max error linear fit:  0.013612688716223342\n",
      "Mean error 2nd order fit:  0.001364796377049298\n",
      "Max error 2nd order fit:  0.0023419483858453383\n"
     ]
    }
   ],
   "source": [
    "# Linear fit error\n",
    "error1 = np.sum(np.abs(d - d1))/len(d)\n",
    "error1_max = np.max(np.abs(d - d1))\n",
    "print('Mean error linear fit: ', error1)\n",
    "print('Max error linear fit: ', error1_max)\n",
    "\n",
    "# Error fitting to a second order degree polynomial\n",
    "error2 = np.sum(np.abs(d - d2))/len(d)\n",
    "error2_max = np.max(np.abs(d - d2))\n",
    "print('Mean error 2nd order fit: ',error2)\n",
    "print('Max error 2nd order fit: ',error2_max)"
   ]
  },
  {
   "cell_type": "markdown",
   "metadata": {},
   "source": [
    "Owing to the nonlinearity of the data, the average and maximum errors are lower for a second degree polynomial fit (error 2). However, the error for a linear fit can be considered acceptable, while maintaining a simple and linear transfer function."
   ]
  },
  {
   "cell_type": "markdown",
   "metadata": {},
   "source": [
    "> This page was written in the [IPython Jupyter Notebook](https://jupyter.org/). To download the notebook click on this option at the top menu or get it from the [github repo](https://github.com/agmarrugo/sensors-actuators)."
   ]
  }
 ],
 "metadata": {
  "kernelspec": {
   "display_name": "Python 3",
   "language": "python",
   "name": "python3"
  },
  "language_info": {
   "codemirror_mode": {
    "name": "ipython",
    "version": 3
   },
   "file_extension": ".py",
   "mimetype": "text/x-python",
   "name": "python",
   "nbconvert_exporter": "python",
   "pygments_lexer": "ipython3",
   "version": "3.8.5"
  }
 },
 "nbformat": 4,
 "nbformat_minor": 1
}
