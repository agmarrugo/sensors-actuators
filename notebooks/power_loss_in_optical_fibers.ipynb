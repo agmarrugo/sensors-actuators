{
  "cells": [
    {
      "cell_type": "markdown",
      "metadata": {
        "id": "view-in-github",
        "colab_type": "text"
      },
      "source": [
        "<a href=\"https://colab.research.google.com/github/agmarrugo/sensors-actuators/blob/master/notebooks/power_loss_in_optical_fibers.ipynb\" target=\"_parent\"><img src=\"https://colab.research.google.com/assets/colab-badge.svg\" alt=\"Open In Colab\"/></a>"
      ]
    },
    {
      "cell_type": "markdown",
      "metadata": {
        "id": "h863tAQoG58_"
      },
      "source": [
        "# Power loss in optical fibers\n",
        "\n",
        "Andrés Marrugo, PhD   \n",
        "Universidad Tecnológica de Bolívar"
      ]
    },
    {
      "cell_type": "markdown",
      "metadata": {
        "id": "hH9F41LCG59A"
      },
      "source": [
        "**1.27 Power loss in optical fibers and the use of dB.**\n",
        "An optical fiber is rated as having a loss of 4 dB/km.\n",
        "Given an input light power density of 10$\\, \\mathrm{mW}/\\mathrm{mm}^2$,\n",
        "what is the light power density at the end of a fiber 6 km long?"
      ]
    },
    {
      "cell_type": "markdown",
      "metadata": {
        "id": "Do7swCkCG59B"
      },
      "source": [
        "## Solution"
      ]
    },
    {
      "cell_type": "markdown",
      "metadata": {
        "id": "MxdmFGfLG59B"
      },
      "source": [
        "The input power density $\\mathbf{P_{in}}$ is: $10 \\, \\mathrm{mW}/\\mathrm{mm}^2$\n",
        "\n",
        "The total attenuation along the line:\n",
        "\n",
        "$$ 4 \\, \\mathrm{dB/km} \\times 6 \\, \\mathrm{km}  = 24 \\, \\mathrm{dB}$$\n",
        "\n",
        "We need to calculate the input power density in dB:\n",
        "\n",
        "$$ \\mathbf{P_{in}} = 10 \\, \\mathrm{mW}/\\mathrm{mm}^2 \\rightarrow P_{in} = 10 \\log_{10} \\left(\\frac{10 \\, \\mathrm{mW}/\\mathrm{mm}^2}{1 \\, \\mathrm{mW}/\\mathrm{mm}^2}\\right) = 10 \\, \\mathrm{dB}$$\n",
        "\n",
        "Note that we have arbitrarily defined as reference (the denominator) $1 \\, \\mathrm{mW}/\\mathrm{mm}^2$. We need to keep this in mind when converting back to power density.\n",
        "\n",
        "The output power density in dB:\n",
        "\n",
        "$$ P_{out} = 10 \\, \\mathrm{dB} - 24 \\, \\mathrm{dB} = - 14 \\, \\mathrm{dB} $$\n",
        "\n",
        "Now we convert this back to power density:\n",
        "\n",
        "$$ -14 \\, \\mathrm{dB} = 10 \\log_{10} \\left( \\frac{\\mathbf{P_{out}}}{1 \\, \\mathrm{mW}/\\mathrm{mm}^2} \\right) $$\n",
        "\n",
        "$$ 10^{-1.4} = \\frac{\\mathbf{P_{out}}}{1 \\, \\mathrm{mW}/\\mathrm{mm}^2} $$\n",
        "\n",
        "$$ \\therefore \\; \\mathbf{P_{out}} = 0.0398 \\, \\mathrm{mW}/\\mathrm{mm}^2 $$\n",
        "\n",
        "$$ \\mathbf{P_{out}} = 39.8 \\, \\mathrm{\\mu W}/\\mathrm{mm}^2 $$"
      ]
    },
    {
      "cell_type": "code",
      "source": [
        "import numpy as np\n",
        "\n",
        "# Given values\n",
        "P_in = 10  # mW/mm²\n",
        "P_ref = 1  # mW/mm²\n",
        "loss_per_km = 4  # dB/km\n",
        "length = 6  # km\n",
        "\n",
        "# Input power in dB\n",
        "P_in_dB = 10 * np.log10(P_in / P_ref)\n",
        "\n",
        "# Total loss in dB\n",
        "total_loss = loss_per_km * length\n",
        "\n",
        "# Output power in dB\n",
        "P_out_dB = P_in_dB - total_loss\n",
        "\n",
        "# Convert output power from dB back to linear scale (mW/mm²)\n",
        "P_out = P_ref * 10**(P_out_dB / 10)\n",
        "\n",
        "# Output power in microWatts per mm²\n",
        "P_out_microW_mm2 = P_out * 10**3  # µW/mm²\n",
        "\n",
        "print(f\"The input power is {P_in_dB} dB\")\n",
        "print(f\"The light power density at the end of the fiber is approximately {P_out:.6f} mW/mm²\")\n",
        "print(f\"The light power density at the end of the fiber is approximately {P_out_microW_mm2:.2f} µW/mm²\")\n"
      ],
      "metadata": {
        "colab": {
          "base_uri": "https://localhost:8080/"
        },
        "id": "SQfjv4KLHD4c",
        "outputId": "b1d90a88-97d8-4d18-c584-37c4c6812d6b"
      },
      "execution_count": 25,
      "outputs": [
        {
          "output_type": "stream",
          "name": "stdout",
          "text": [
            "The input power is 10.0 dB\n",
            "The light power density at the end of the fiber is approximately 0.039811 mW/mm²\n",
            "The light power density at the end of the fiber is approximately 39.81 µW/mm²\n"
          ]
        }
      ]
    },
    {
      "cell_type": "markdown",
      "metadata": {
        "id": "bhTuZA8NG59C"
      },
      "source": [
        "> This page was written in the [IPython Jupyter Notebook](https://jupyter.org/). To download the notebook click on this option at the top menu or get it from the [github repo](https://github.com/agmarrugo/sensors-actuators)."
      ]
    }
  ],
  "metadata": {
    "kernelspec": {
      "display_name": "Python 3",
      "language": "python",
      "name": "python3"
    },
    "language_info": {
      "codemirror_mode": {
        "name": "ipython",
        "version": 3
      },
      "file_extension": ".py",
      "mimetype": "text/x-python",
      "name": "python",
      "nbconvert_exporter": "python",
      "pygments_lexer": "ipython3",
      "version": "3.8.5"
    },
    "colab": {
      "provenance": [],
      "include_colab_link": true
    }
  },
  "nbformat": 4,
  "nbformat_minor": 0
}