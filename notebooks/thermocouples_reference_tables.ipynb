{
  "nbformat": 4,
  "nbformat_minor": 0,
  "metadata": {
    "colab": {
      "name": "thermocouples_reference_tables.ipynb",
      "provenance": [],
      "authorship_tag": "ABX9TyM2y/xJsRn20EWjw7z571//",
      "include_colab_link": true
    },
    "kernelspec": {
      "name": "python3",
      "display_name": "Python 3"
    },
    "language_info": {
      "name": "python"
    }
  },
  "cells": [
    {
      "cell_type": "markdown",
      "metadata": {
        "id": "view-in-github",
        "colab_type": "text"
      },
      "source": [
        "<a href=\"https://colab.research.google.com/github/agmarrugo/sensors-actuators/blob/master/notebooks/thermocouples_reference_tables.ipynb\" target=\"_parent\"><img src=\"https://colab.research.google.com/assets/colab-badge.svg\" alt=\"Open In Colab\"/></a>"
      ]
    },
    {
      "cell_type": "markdown",
      "metadata": {
        "id": "gBnorWMMOvwg"
      },
      "source": [
        "## Thermocouple reference tables\n",
        "\n",
        "Andrés Marrugo, PhD     \n",
        "Universidad Tecnológica de Bolívar\n",
        "\n",
        "Here we show several examples of using the Python `thermocouples_reference` that contains calibration data and lookup functions for standard thermocouples of types B, C, D, E, G, J, K, M, N, P, R, S, T, and some less standard types too. For more information on the module go to this [link.](https://pypi.org/project/thermocouples_reference/#id6).\n",
        "\n",
        "![Thermocouple image.](https://www.iqsdirectory.com/articles/thermocouple/Thermocouple.jpg)\n",
        "\n",
        "### Additional reading\n",
        "\n",
        "- [Thermocouples](https://www.iqsdirectory.com/articles/thermocouple.html \"Thermocouple: What is it? How Does it Work? Types Of\")\n",
        "\n"
      ]
    },
    {
      "cell_type": "code",
      "metadata": {
        "colab": {
          "base_uri": "https://localhost:8080/"
        },
        "id": "m8H1MsLIPT9c",
        "outputId": "2f2e228f-e106-41bb-e71b-e79a1f47dafd"
      },
      "source": [
        "# First let's install the module\n",
        "!pip install thermocouples_reference"
      ],
      "execution_count": 2,
      "outputs": [
        {
          "output_type": "stream",
          "name": "stdout",
          "text": [
            "Collecting thermocouples_reference\n",
            "  Downloading thermocouples_reference-0.20.tar.gz (17 kB)\n",
            "Requirement already satisfied: numpy in /usr/local/lib/python3.7/dist-packages (from thermocouples_reference) (1.19.5)\n",
            "Building wheels for collected packages: thermocouples-reference\n",
            "  Building wheel for thermocouples-reference (setup.py) ... \u001b[?25l\u001b[?25hdone\n",
            "  Created wheel for thermocouples-reference: filename=thermocouples_reference-0.20-py3-none-any.whl size=19566 sha256=6e7576646feac0b90f6a8cfdd155ae4ed561b4fc8903d13edaae68d7dfb842e0\n",
            "  Stored in directory: /root/.cache/pip/wheels/75/d4/07/af37d1face691b3e48e053ba493f7a8e7da0890a487f16f7ae\n",
            "Successfully built thermocouples-reference\n",
            "Installing collected packages: thermocouples-reference\n",
            "Successfully installed thermocouples-reference-0.20\n"
          ]
        }
      ]
    },
    {
      "cell_type": "markdown",
      "metadata": {
        "id": "skEVAF5kPdGK"
      },
      "source": [
        "Below, the first computation shows that the type K thermocouple emf at 42 °C, with reference junction at 0 °C, is 1.694 mV (compare to NIST table); the second calculation shows how passing in an array applies the function for each element, in the style of numpy:"
      ]
    },
    {
      "cell_type": "code",
      "metadata": {
        "colab": {
          "base_uri": "https://localhost:8080/"
        },
        "id": "8YMUyERgOhue",
        "outputId": "bfcf5dc0-acf4-44ba-826f-b1711ff012fc"
      },
      "source": [
        "from thermocouples_reference import thermocouples\n",
        "\n",
        "typeK = thermocouples['K']\n",
        "print(typeK)\n",
        "\n",
        "print(typeK.emf_mVC(42, Tref=0))\n",
        "\n",
        "print(typeK.emf_mVC([-3.14159, 42, 54], Tref=0))\n",
        "\n"
      ],
      "execution_count": 5,
      "outputs": [
        {
          "output_type": "stream",
          "name": "stdout",
          "text": [
            "<Type K thermocouple reference (-270.0 to 1372.0 °C)>\n",
            "1.6938477049901346\n",
            "[-0.12369326  1.6938477   2.18822176]\n"
          ]
        }
      ]
    },
    {
      "cell_type": "markdown",
      "metadata": {
        "id": "VQf62cGvP9DJ"
      },
      "source": [
        "An inverse lookup function is provided that you can use to get a temperature out of a measured voltage, including cold junction compensation effects. If we put our type K thermocouple into a piece of spam and we read 1.1 mV, using our voltmeter at room temperature (23 °C), then the spam is at 50 °C."
      ]
    },
    {
      "cell_type": "code",
      "metadata": {
        "colab": {
          "base_uri": "https://localhost:8080/"
        },
        "id": "Ddlg5EIXP8o8",
        "outputId": "64af4ba4-5c46-4293-f732-3b8486a38a34"
      },
      "source": [
        "print(typeK.inverse_CmV(1.1, Tref=23.0))\n",
        "\n",
        " # check result\n",
        "print(typeK.emf_mVC(49.907928030075773, Tref=23.0))\n"
      ],
      "execution_count": 6,
      "outputs": [
        {
          "output_type": "stream",
          "name": "stdout",
          "text": [
            "49.90792803007576\n",
            "1.1\n"
          ]
        }
      ]
    }
  ]
}