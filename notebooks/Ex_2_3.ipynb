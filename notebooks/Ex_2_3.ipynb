{
 "cells": [
  {
   "cell_type": "markdown",
   "metadata": {},
   "source": [
    "# The transfer function\n",
    "\n",
    "__Analytic form of transfer function__. In certain cases the transfer function is available as an analytic expression. One common transfer function used for resistance temperature sensors (to be discussed in __Chapter 3__) is the Callendar– Van Duzen equation. It gives the resistance of the sensor at a temperature T as\n",
    "\n",
    "                                    \n",
    "$$R(T)=R_{0}(1+AT+BT^2+C(T-100)T^3) \\enspace,$$\n",
    "\n",
    "where the constants A, B, and C are determined by direct measurement of resistance for the specific material used in the sensor and $R_0$ is the temperature of the sensor at 0 ºC. Typical temperatures used for calibration are the oxygen point (-182.962 ºC; the equilibrium between liquid oxygen and its vapor), the triple point of water (0.01 ºC; the point of equilibrium temperature between ice, liquid water, and water vapor), the steam point (100 ºC; the equilibrium point between water and vapor), the zinc point (419.58 ºC; the equilibrium point between solid and liquid zinc), the silver point (961.93 ºC), and the gold point (1064.43 ºC), as well as others. Consider a platinum resistance sensor with a nominal resistance of 25 $\\Omega $ at 0 C. To calibrate the sensor its resistance is measured at the oxygen point as 6.2 $\\Omega $, at the steam point as 35.6 $\\Omega $, and at the zinc point as 66.1 $\\Omega $. Calculate the coefficients A, B, and C and plot the transfer function between  -200 ºC and 600  ºC.\n",
    " \n"
   ]
  },
  {
   "cell_type": "markdown",
   "metadata": {},
   "source": [
    "### Solution ###\n",
    "\n",
    "In order to obtain the sensor calibration, several measurements at different temperatures where taken:\n",
    "\n",
    "1. 6.2 $\\Omega $ at a temperature of  -182.962 ºC (oxygen point).\n",
    "\n",
    "2. 35.6 $\\Omega $  at a temperature of  100 ºC (steam point).\n",
    "\n",
    "3. 66.1 $\\Omega $ at a temperature of 419.58 ºC (zinc point)\n",
    "\n",
    "Let's plot the points,"
   ]
  },
  {
   "cell_type": "code",
   "execution_count": 1,
   "metadata": {},
   "outputs": [
    {
     "data": {
      "image/png": "[encoded data removed]",
      "text/plain": [
       "<Figure size 432x288 with 1 Axes>"
      ]
     },
     "metadata": {
      "needs_background": "light"
     },
     "output_type": "display_data"
    }
   ],
   "source": [
    "import matplotlib.pyplot as plt\n",
    "import numpy as np\n",
    "from math import log, exp\n",
    "%matplotlib inline\n",
    "from scipy.interpolate import InterpolatedUnivariateSpline\n",
    "\n",
    "\n",
    "T_exp = np.array([-182.962,100,419.58]);# Celcius\n",
    "R_exp = np.array([6.2 ,35.6,66.1])# Ohm\n",
    "plt.plot(T_exp,R_exp,'*');\n",
    "plt.ylabel('Resistance of the sensor [Ohm]')\n",
    "plt.xlabel('Temperature [C]')\n",
    "plt.show()"
   ]
  },
  {
   "cell_type": "markdown",
   "metadata": {},
   "source": [
    "Reordering the Callendar-Van Duzen equation we obtain the following\n",
    "\n",
    "$$ AT+BT^2+C(T-100)T^3  =\\frac{R(T)}{R_0}-1 \\enspace,$$\n",
    "\n",
    "which we can write in matrix form as $Mx=p$, where\n",
    "\n",
    "$$\\begin{bmatrix} T_1 & T_1^2 & (T_1-100)T_1^3 \\\\ T_2 & T_2^2 & (T_2-100)T_2^3 \\\\ T_3 & T_3^2 & (T_3-100)T_3^3\\end{bmatrix} \\begin{bmatrix} A\\\\ B \\\\ C\\end{bmatrix}  = \\begin{bmatrix} \\frac{R(T_1)}{R_0}-1 \\\\ \\frac{R(T_2)}{R_0}-1 \\\\ \\frac{R(T_3)}{R_0}-1\\end{bmatrix} \\enspace.$$\n",
    "\n",
    "Because $M$ is square we can solve by computing $M^{-1}$ directly.\n",
    "\n"
   ]
  },
  {
   "cell_type": "code",
   "execution_count": 2,
   "metadata": {},
   "outputs": [
    {
     "name": "stdout",
     "output_type": "stream",
     "text": [
      "M\n",
      "[[-1.830e+02  3.348e+04  1.733e+09]\n",
      " [ 1.000e+02  1.000e+04  0.000e+00]\n",
      " [ 4.196e+02  1.760e+05  2.361e+10]]\n",
      "\n",
      "\n",
      "p\n",
      "[[-0.752]\n",
      " [ 0.424]\n",
      " [ 1.644]]\n",
      "\n",
      "\n",
      "x\n",
      "[[ 4.160e-03]\n",
      " [ 8.031e-07]\n",
      " [-1.028e-11]]\n"
     ]
    }
   ],
   "source": [
    "R0=25;\n",
    "M=np.array([[T_exp[0],(T_exp[0])**2,(T_exp[0]-100)*(T_exp[0])**3],[T_exp[1],(T_exp[1])**2,(T_exp[1]-100)*(T_exp[1])**3],[T_exp[2],(T_exp[2])**2,(T_exp[2]-100)*(T_exp[2])**3]]);\n",
    "p=np.array([[(R_exp[0]/R0)-1],[(R_exp[1]/R0)-1],[(R_exp[2]/R0)-1]]);\n",
    "x = np.linalg.solve(M,p) #solve linear equations system\n",
    "\n",
    "np.set_printoptions(precision=3)\n",
    "\n",
    "print('M')\n",
    "print(M)\n",
    "print('\\n')\n",
    "print('p')\n",
    "print(p)\n",
    "print('\\n')\n",
    "print('x')\n",
    "print(x)"
   ]
  },
  {
   "cell_type": "markdown",
   "metadata": {},
   "source": [
    "We have found the coeffiecients $A$, $B$, and $C$ necessary to describe the sensor's transfer function. Now we plot it from -200 C a 600 C."
   ]
  },
  {
   "cell_type": "code",
   "execution_count": 3,
   "metadata": {},
   "outputs": [
    {
     "data": {
      "image/png": "[encoded data removed]",
      "text/plain": [
       "<Figure size 432x288 with 1 Axes>"
      ]
     },
     "metadata": {
      "needs_background": "light"
     },
     "output_type": "display_data"
    }
   ],
   "source": [
    "A=x[0];B=x[1];C=x[2];\n",
    "T_range= np.arange(start = -200, stop = 601, step = 1);\n",
    "R_funT= R0*(1+A[0]*T_range+B[0]*(T_range)**2+C[0]*(T_range-100)*(T_range)**3);\n",
    "plt.plot(T_range,R_funT,T_exp[0],R_exp[0],'ro',T_exp[1],R_exp[1],'ro',T_exp[2],R_exp[2],'ro');\n",
    "plt.ylabel('Sensor resistance [Ohm]')\n",
    "plt.xlabel('Temperature [C]')\n",
    "plt.show()\n"
   ]
  },
  {
   "cell_type": "markdown",
   "metadata": {
    "collapsed": true
   },
   "source": [
    "We see the fit is accurate. Note that our approach is also valid if we have more experimental points, in which case the system of equations $Mx=p$ is solved in the [Least-Squares sense.](http://math.mit.edu/~gs/linearalgebra/ila0403.pdf)"
   ]
  },
  {
   "cell_type": "markdown",
   "metadata": {},
   "source": [
    "> This page was written in the [IPython Jupyter Notebook](https://jupyter.org/). To download the notebook click on this option at the top menu or get it from the [github repo](https://github.com/agmarrugo/sensors-actuators)."
   ]
  }
 ],
 "metadata": {
  "anaconda-cloud": {},
  "kernelspec": {
   "display_name": "Python 3",
   "language": "python",
   "name": "python3"
  },
  "language_info": {
   "codemirror_mode": {
    "name": "ipython",
    "version": 3
   },
   "file_extension": ".py",
   "mimetype": "text/x-python",
   "name": "python",
   "nbconvert_exporter": "python",
   "pygments_lexer": "ipython3",
   "version": "3.8.5"
  }
 },
 "nbformat": 4,
 "nbformat_minor": 1
}
