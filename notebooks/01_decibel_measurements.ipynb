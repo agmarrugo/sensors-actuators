{
  "nbformat": 4,
  "nbformat_minor": 0,
  "metadata": {
    "colab": {
      "provenance": [],
      "authorship_tag": "ABX9TyPiEwpFVpoBeGZmlCN5yGol",
      "include_colab_link": true
    },
    "kernelspec": {
      "name": "python3",
      "display_name": "Python 3"
    },
    "language_info": {
      "name": "python"
    }
  },
  "cells": [
    {
      "cell_type": "markdown",
      "metadata": {
        "id": "view-in-github",
        "colab_type": "text"
      },
      "source": [
        "<a href=\"https://colab.research.google.com/github/agmarrugo/sensors-actuators/blob/master/notebooks/01_decibel_measurements.ipynb\" target=\"_parent\"><img src=\"https://colab.research.google.com/assets/colab-badge.svg\" alt=\"Open In Colab\"/></a>"
      ]
    },
    {
      "cell_type": "markdown",
      "source": [
        "# Decibel Measurements\n",
        "\n",
        "Andrés Marrugo, PhD   \n",
        "Universidad Tecnológica de Bolívar\n",
        "\n",
        "## Introduction\n",
        "\n",
        "The decibel (dB) is a logarithmic unit used to express the ratio of two values of a physical quantity, often power or intensity. It's a relative measurement unit which compares the level of a quantity to a reference level. It's widely used in acoustics, electronics, and control theory.\n",
        "\n",
        "## Theory\n",
        "\n",
        "The decibel (dB) is a logarithmic unit used to express the ratio of two values of a physical quantity, often power or intensity.\n",
        "\n",
        "Mathematically, the decibel is defined as ten times the logarithm (base 10) of the ratio of two power quantities (P1 and P2), or as twenty times the logarithm of the ratio of two field quantities (F1 and F2).\n",
        "\n",
        "For power quantities:\n",
        "\n",
        "$$ dB = 10 \\cdot \\log_{10}\\left(\\frac{P1}{P2}\\right) $$\n",
        "\n",
        "For field quantities:\n",
        "\n",
        "$$ dB = 20 \\cdot \\log_{10}\\left(\\frac{F1}{F2}\\right) $$\n",
        "\n",
        "The decibel scale is a convenient way to handle the incredibly large range of values we encounter in the world of sound and electronics.\n",
        "\n",
        "Applications of decibel measurements are widespread and include audio systems, electronics, acoustics, and more.\n"
      ],
      "metadata": {
        "id": "SJaupqlg_dkk"
      }
    },
    {
      "cell_type": "markdown",
      "source": [
        "## Worked Out Examples\n",
        "\n"
      ],
      "metadata": {
        "id": "6Yz3Xh_hAG-V"
      }
    },
    {
      "cell_type": "code",
      "source": [
        "# Import necessary libraries\n",
        "import numpy as np\n",
        "import matplotlib.pyplot as plt"
      ],
      "metadata": {
        "id": "oZi8zMz6A1YV"
      },
      "execution_count": 2,
      "outputs": []
    },
    {
      "cell_type": "markdown",
      "source": [
        "### Example 1: Calculating Decibel Levels\n",
        "\n",
        "Let's say we have a power ratio of 1000. The decibel level can be calculated as follows:\n",
        "\n",
        "$$ dB = 10 \\cdot \\log_{10}\\left(\\frac{P1}{P2}\\right) = 10 \\cdot \\log_{10}(1000) = 30 dB $$"
      ],
      "metadata": {
        "id": "uutlWcaaA4Ck"
      }
    },
    {
      "cell_type": "code",
      "source": [
        "power_ratio = 1000\n",
        "db_level = 10 * np.log10(power_ratio)\n",
        "print(f\"The decibel level is {db_level} dB\")"
      ],
      "metadata": {
        "colab": {
          "base_uri": "https://localhost:8080/"
        },
        "id": "6D482Gq-AnfQ",
        "outputId": "3543c7d4-c022-40f9-c4fa-e77223d99c60"
      },
      "execution_count": 3,
      "outputs": [
        {
          "output_type": "stream",
          "name": "stdout",
          "text": [
            "The decibel level is 30.0 dB\n"
          ]
        }
      ]
    },
    {
      "cell_type": "markdown",
      "source": [
        "### Example 2: Converting Between Decibel Levels and Power Ratios\n",
        "\n",
        "If we have a decibel level of 30 dB, we can calculate the power ratio as follows:\n",
        "\n",
        "$$ \\frac{P1}{P2} = 10^{\\frac{dB}{10}} = 10^{\\frac{30}{10}} = 1000 $$"
      ],
      "metadata": {
        "id": "KN422LrHBFlb"
      }
    },
    {
      "cell_type": "code",
      "source": [
        "db_level = 30\n",
        "power_ratio = 10 ** (db_level / 10)\n",
        "print(f\"The power ratio is {power_ratio}\")"
      ],
      "metadata": {
        "colab": {
          "base_uri": "https://localhost:8080/"
        },
        "id": "gJsOyIWnBDAv",
        "outputId": "e009505c-b55c-42ab-d362-3bb4844e17b4"
      },
      "execution_count": 4,
      "outputs": [
        {
          "output_type": "stream",
          "name": "stdout",
          "text": [
            "The power ratio is 1000.0\n"
          ]
        }
      ]
    },
    {
      "cell_type": "markdown",
      "source": [
        "### Example 3: Converting Between Decibel Levels and Voltage Ratios\n",
        "\n",
        "If we have a decibel level of 20 dB, we can calculate the voltage ratio as follows:\n",
        "\n",
        "$$ \\frac{V1}{V2} = 10^{\\frac{dB}{20}} = 10^{\\frac{20}{20}} = 10 $$"
      ],
      "metadata": {
        "id": "cBv0FztsBK5v"
      }
    },
    {
      "cell_type": "code",
      "source": [
        "db_level = 20\n",
        "voltage_ratio = 10 ** (db_level / 20)\n",
        "print(f\"The voltage ratio is {voltage_ratio}\")"
      ],
      "metadata": {
        "colab": {
          "base_uri": "https://localhost:8080/"
        },
        "id": "Nt8SMD8HBMvF",
        "outputId": "8f38c217-7a08-48ed-9e1f-4e963ae6373d"
      },
      "execution_count": 5,
      "outputs": [
        {
          "output_type": "stream",
          "name": "stdout",
          "text": [
            "The voltage ratio is 10.0\n"
          ]
        }
      ]
    },
    {
      "cell_type": "markdown",
      "source": [
        "## Example 4: Cascaded Amplifiers\n",
        "\n",
        "Consider a system where we have two amplifiers cascaded, i.e., the output of the first amplifier is the input to the second amplifier. Let's say the voltage gain of the first amplifier (Av1) is 3 and the voltage gain of the second amplifier (Av2) is 2.\n",
        "\n",
        "\n",
        "![02534x01.png](https://sub.allaboutcircuits.com/images/quiz/02534x01.png)\n",
        "\n",
        "In a cascaded system, the total voltage gain ($AvT$) is the product of the individual voltage gains. This is because the output voltage of the first amplifier is amplified by the second amplifier.\n",
        "\n",
        "So, the total voltage gain $AvT$ can be calculated as follows:\n",
        "\n",
        "$$ AvT = Av1 \\cdot Av2 $$\n",
        "\n",
        "Substituting the given values:\n",
        "\n",
        "$$ AvT = 3 \\cdot 2 = 6 $$\n",
        "\n",
        "So, the total voltage gain of the cascaded amplifiers is 6.\n",
        "\n",
        "However, if we want to express this gain in decibels (dB), we can use the formula:\n",
        "\n",
        "$$ Gain (dB) = 20 \\cdot \\log_{10}(Av) $$\n",
        "\n",
        "Substituting AvT into this formula:\n",
        "\n",
        "$$ Gain (dB) = 20 \\cdot \\log_{10}(6) \\approx 15.56 dB $$\n",
        "\n",
        "So, the total gain of the cascaded amplifiers is approximately 15.56 dB.\n",
        "\n",
        "Please note that this is a simplified example and actual amplifier systems may have more complexities such as impedance matching, frequency response, and non-linearities.\n"
      ],
      "metadata": {
        "id": "0ezF7PXYDjWc"
      }
    },
    {
      "cell_type": "code",
      "source": [
        "# Gain of the first and second amplifiers\n",
        "Av1 = 3\n",
        "Av2 = 2\n",
        "\n",
        "# Total voltage gain\n",
        "AvT = Av1 * Av2\n",
        "print(f\"The total voltage gain is {AvT}\")\n",
        "\n",
        "# Gain in decibels\n",
        "Gain_dB = 20 * np.log10(AvT)\n",
        "print(f\"The total gain in decibels is approximately {Gain_dB:.2f} dB\")"
      ],
      "metadata": {
        "colab": {
          "base_uri": "https://localhost:8080/"
        },
        "id": "nljA3xtBDigi",
        "outputId": "c09fc4bf-be7e-4828-fae1-3438660d5270"
      },
      "execution_count": 6,
      "outputs": [
        {
          "output_type": "stream",
          "name": "stdout",
          "text": [
            "The total voltage gain is 6\n",
            "The total gain in decibels is approximately 15.56 dB\n"
          ]
        }
      ]
    },
    {
      "cell_type": "markdown",
      "source": [
        "\n",
        "\n",
        "\n",
        "# Exercises\n",
        "\n",
        "1. Calculate the decibel level for a power ratio of 500.\n",
        "2. Convert a decibel level of 40 dB to a power ratio.\n",
        "3. Convert a decibel level of 50 dB to a voltage ratio."
      ],
      "metadata": {
        "id": "ox8N3tLbAmQF"
      }
    },
    {
      "cell_type": "markdown",
      "source": [
        "4. Cascaded Amplifiers\n",
        "\n",
        "Consider a system where we have three amplifiers cascaded, i.e., the output of the first amplifier is the input to the second amplifier, and the output of the second amplifier is the input to the third amplifier.\n",
        "\n",
        "The voltage gain of the first amplifier (Av1) is 4, the voltage gain of the second amplifier (Av2) is 5, and the voltage gain of the third amplifier (Av3) is 2.\n",
        "\n",
        "a. Calculate the total voltage gain of the cascaded amplifiers.   \n",
        "b. Convert this total voltage gain to decibels.   \n",
        "c. If the input voltage to the first amplifier is 0.5 V, what is the output voltage from the third amplifier?   \n",
        "\n",
        "\n"
      ],
      "metadata": {
        "id": "NxtAQ3T6E10i"
      }
    },
    {
      "cell_type": "markdown",
      "source": [
        "## Conclusion\n",
        "\n",
        "In this notebook, we've learned about decibel measurements, how to calculate them, and how to convert between decibel levels and power/voltage ratios. For further reading, consider textbooks on acoustics or electronics, or online resources."
      ],
      "metadata": {
        "id": "l00OSvq6AhHS"
      }
    }
  ]
}