{
 "cells": [
  {
   "cell_type": "markdown",
   "id": "postal-aberdeen",
   "metadata": {},
   "source": [
    "Sensors and Actuators\n",
    "===\n",
    "\n",
    "**Notes on Sensors and Actuators with ipython notebooks**\n",
    "\n",
    "Andrés Marrugo, PhD\n",
    "\n",
    "This repository is a collection of Jupyter notebooks in the form of lecture notes and engineering calculations for the course IMTR Z03A Sensors and Actuators taught at the [Universidad Tecnológica de Bolívar](http://www.utb.edu.co/). It is largely based on the book by [Nathan Ida](http://www.scitechpublishing.com/ida_9781613530061.htm \"Nathan Ida, Sensors and Actuators 9781613530023\"). The lectures notes are written using the [Jupyter IPython Notebook](https://jupyter.org/), part of the [Python ecosystem for scientific computing]( http://scipy.org/ ). You can view these lectures in different ways: simply read on line by clicking on the links below; or download a single notebook or all the stuff or yet fork this entire repository using the GitHub resources and run the notebooks in your computer or in the cloud. I hope this material is useful to you and I am open to suggestions or comments.\n",
    "\n",
    "This work was inspired by the lecture notes on [Scientific Computing for Biomechanics and Motor Control by Marcos Duarte](https://github.com/demotu/BMC). This is a work in progress.\n",
    " \n",
    "\n",
    "\n",
    "Introduction\n",
    "------------\n",
    "- [Installing python.](http://nbviewer.ipython.org/github/demotu/BMC/blob/master/notebooks/PythonInstallation.ipynb) This takes you to a notebook by Marcos Duarte with instructions for installing python.\n",
    "\n",
    "Performance Characteristics of Sensors and Actuators\n",
    "------------\n",
    "\n",
    "- [Passive and active sensors](notebooks/passive-and-active-sensors.md)\n",
    "\n",
    "- [Power loss in optical fibers.](http://nbviewer.ipython.org/github/agmarrugo/sensors-actuators/blob/master/notebooks/power-loss-in-optical-fibers.ipynb)\n",
    "\n",
    "- [A simple position sensor.](http://nbviewer.ipython.org/github/agmarrugo/sensors-actuators/blob/master/notebooks/position-sensor.ipynb)\n",
    "\n",
    "- [Analytic form of transfer function.](http://nbviewer.ipython.org/github/agmarrugo/sensors-actuators/blob/master/notebooks/Ex_2_3.ipynb)\n",
    "\n",
    "- [Errors in sensing](http://nbviewer.ipython.org/github/agmarrugo/sensors-actuators/blob/master/notebooks/Ex2-10-errors-in-sensing.ipynb)\n",
    "\n",
    "- [Linear approximation of nonlinear transfer function.](http://nbviewer.ipython.org/github/agmarrugo/sensors-actuators/blob/master/notebooks/Ex_2_16.ipynb)\n",
    "\n",
    "Temperature Sensors\n",
    "------------\n",
    "\n",
    "- [A wire-spool sensor.](http://nbviewer.ipython.org/github/agmarrugo/sensors-actuators/blob/master/notebooks/wire-spool_sensor.ipynb)\n",
    "\n",
    "\n",
    "Mechanical Sensors\n",
    "------------\n",
    "\n",
    "- [Evaluation of a force sensor.](http://nbviewer.ipython.org/github/agmarrugo/sensors-actuators/blob/master/notebooks/Ex6_4_evaluation_force_sensor.ipynb)\n",
    "\n"
   ]
  }
 ],
 "metadata": {
  "kernelspec": {
   "display_name": "Python 3",
   "language": "python",
   "name": "python3"
  },
  "language_info": {
   "codemirror_mode": {
    "name": "ipython",
    "version": 3
   },
   "file_extension": ".py",
   "mimetype": "text/x-python",
   "name": "python",
   "nbconvert_exporter": "python",
   "pygments_lexer": "ipython3",
   "version": "3.9.1"
  }
 },
 "nbformat": 4,
 "nbformat_minor": 5
}
